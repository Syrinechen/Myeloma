{
 "cells": [
  {
   "cell_type": "code",
   "execution_count": 11,
   "metadata": {},
   "outputs": [],
   "source": [
    "import pandas as pd\n",
    "import numpy as np\n",
    "import matplotlib.pyplot as plt\n",
    "import sys\n",
    "sys.path.append('/home/irit/Documents/Myeloma_Syrine/Scripts')  # Add the path to the project directory\n",
    "from Scripts import xgboost_model,SVM_model,Lin_model,process_data\n",
    "from sklearn.linear_model import LogisticRegression\n",
    "import importlib"
   ]
  },
  {
   "cell_type": "code",
   "execution_count": 14,
   "metadata": {},
   "outputs": [
    {
     "data": {
      "text/plain": [
       "<module 'Scripts.process_data' from '/home/irit/Documents/Myeloma_Syrine/Scripts/process_data.py'>"
      ]
     },
     "execution_count": 14,
     "metadata": {},
     "output_type": "execute_result"
    }
   ],
   "source": [
    "importlib.reload(xgboost_model)\n",
    "importlib.reload(SVM_model)\n",
    "importlib.reload(Lin_model)\n",
    "importlib.reload(process_data)"
   ]
  },
  {
   "cell_type": "markdown",
   "metadata": {},
   "source": [
    "We compare here different classification models using all the genes. 5-Stratified KFold cross validation to have a significant results.\n",
    "For each model (apart from logistic regression), a grid search is used to find optimal parameters."
   ]
  },
  {
   "cell_type": "code",
   "execution_count": 3,
   "metadata": {},
   "outputs": [],
   "source": [
    "X,y=process_data.main('/home/irit/Documents/Myeloma_Syrine/Data/TPM_count_mrd_response.csv',0,0,0,'Max')"
   ]
  },
  {
   "cell_type": "markdown",
   "metadata": {},
   "source": [
    "#### Logistic regression"
   ]
  },
  {
   "cell_type": "code",
   "execution_count": 4,
   "metadata": {},
   "outputs": [],
   "source": [
    "train_results,test_results=Lin_model.linear_model(X,y,LogisticRegression(max_iter=int(1e6),solver='lbfgs'),10)"
   ]
  },
  {
   "cell_type": "code",
   "execution_count": 5,
   "metadata": {},
   "outputs": [
    {
     "data": {
      "text/plain": [
       "{'Accuracy': array([1., 1., 1., 1., 1., 1., 1., 1., 1., 1.]),\n",
       " 'AUC': array([1., 1., 1., 1., 1., 1., 1., 1., 1., 1.]),\n",
       " 'f1 score': array([0., 0., 0., 0., 0., 0., 0., 0., 0., 0.])}"
      ]
     },
     "execution_count": 5,
     "metadata": {},
     "output_type": "execute_result"
    }
   ],
   "source": [
    "train_results"
   ]
  },
  {
   "cell_type": "code",
   "execution_count": 9,
   "metadata": {},
   "outputs": [
    {
     "name": "stdout",
     "output_type": "stream",
     "text": [
      "La moyenne est:  0.5514026884862654\n",
      "Avec un écart type de:  0.05181394858378056\n"
     ]
    }
   ],
   "source": [
    "print('La moyenne est: ',test_results['Accuracy'].mean())\n",
    "print('Avec un écart type de: ', test_results['Accuracy'].std())"
   ]
  },
  {
   "cell_type": "markdown",
   "metadata": {},
   "source": [
    "#### SVM"
   ]
  },
  {
   "cell_type": "code",
   "execution_count": null,
   "metadata": {},
   "outputs": [],
   "source": [
    "train_results,test_results=SVM_model.svm_classification(X,y,5)"
   ]
  },
  {
   "cell_type": "code",
   "execution_count": 17,
   "metadata": {},
   "outputs": [
    {
     "data": {
      "text/plain": [
       "{'Accuracy': array([1., 1., 1., 1., 1.]), 'AUC': array([1., 1., 1., 1., 1.])}"
      ]
     },
     "execution_count": 17,
     "metadata": {},
     "output_type": "execute_result"
    }
   ],
   "source": [
    "train_results"
   ]
  },
  {
   "cell_type": "code",
   "execution_count": 18,
   "metadata": {},
   "outputs": [
    {
     "name": "stdout",
     "output_type": "stream",
     "text": [
      "La moyenne est:  0.5361184792219275\n",
      "Avec un écart type de:  0.044184254976297264\n"
     ]
    }
   ],
   "source": [
    "print('La moyenne est: ',test_results['Accuracy'].mean())\n",
    "print('Avec un écart type de: ', test_results['Accuracy'].std())"
   ]
  },
  {
   "cell_type": "markdown",
   "metadata": {},
   "source": [
    "#### XGBoost"
   ]
  },
  {
   "cell_type": "code",
   "execution_count": null,
   "metadata": {},
   "outputs": [],
   "source": [
    "res_train,res_test=xgboost_model.xgb_classification(X,y,5)"
   ]
  },
  {
   "cell_type": "code",
   "execution_count": 20,
   "metadata": {},
   "outputs": [
    {
     "data": {
      "text/plain": [
       "{'Accuracy': array([0.83225806, 0.96344086, 0.99356223, 0.90772532, 0.86909871]),\n",
       " 'AUC': array([0.83225806, 0.96344086, 0.99356223, 0.90772532, 0.86909871])}"
      ]
     },
     "execution_count": 20,
     "metadata": {},
     "output_type": "execute_result"
    }
   ],
   "source": [
    "res_train"
   ]
  },
  {
   "cell_type": "code",
   "execution_count": 24,
   "metadata": {},
   "outputs": [
    {
     "name": "stdout",
     "output_type": "stream",
     "text": [
      "La moyenne est:  0.5704096669613911\n",
      "Avec un écart type de:  0.021723290046954023\n"
     ]
    }
   ],
   "source": [
    "print('La moyenne est: ',res_test['Accuracy'].mean())\n",
    "print('Avec un écart type de: ', res_test['Accuracy'].std())"
   ]
  }
 ],
 "metadata": {
  "kernelspec": {
   "display_name": "Python 3",
   "language": "python",
   "name": "python3"
  },
  "language_info": {
   "codemirror_mode": {
    "name": "ipython",
    "version": 3
   },
   "file_extension": ".py",
   "mimetype": "text/x-python",
   "name": "python",
   "nbconvert_exporter": "python",
   "pygments_lexer": "ipython3",
   "version": "3.10.12"
  },
  "orig_nbformat": 4
 },
 "nbformat": 4,
 "nbformat_minor": 2
}
