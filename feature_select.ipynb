{
 "cells": [
  {
   "cell_type": "code",
   "execution_count": 5,
   "metadata": {},
   "outputs": [],
   "source": [
    "import pandas as pd\n",
    "import numpy as np\n",
    "import random as rd\n",
    "import seaborn as sns\n",
    "import matplotlib.pyplot as plt\n",
    "from tqdm import trange,tqdm\n",
    "import sys\n",
    "sys.path.append('/home/irit/Documents/Myeloma_Syrine/Scripts')  # Add the path to the project directory\n",
    "from Scripts import xgboost_model,SVM_model,Lin_model,process_data, dim_reduction,feature_selection\n",
    "import importlib\n",
    "from random import random\n",
    "from sklearn.linear_model import LogisticRegression\n",
    "from sklearn.model_selection import StratifiedKFold\n",
    "from sklearn.metrics import accuracy_score, roc_auc_score\n",
    "import plotly.express as px"
   ]
  },
  {
   "cell_type": "code",
   "execution_count": 16,
   "metadata": {},
   "outputs": [
    {
     "data": {
      "text/plain": [
       "<module 'Scripts.feature_selection' from '/home/irit/Documents/Myeloma_Syrine/Scripts/feature_selection.py'>"
      ]
     },
     "execution_count": 16,
     "metadata": {},
     "output_type": "execute_result"
    }
   ],
   "source": [
    "importlib.reload(xgboost_model)\n",
    "importlib.reload(SVM_model)\n",
    "importlib.reload(Lin_model)\n",
    "importlib.reload(process_data)\n",
    "importlib.reload(feature_selection)"
   ]
  },
  {
   "cell_type": "code",
   "execution_count": 3,
   "metadata": {},
   "outputs": [],
   "source": [
    "X,y=process_data.main('/home/irit/Documents/Myeloma_Syrine/Data/TPM_count_mrd_response.csv',0,0,5,'Max')"
   ]
  },
  {
   "cell_type": "markdown",
   "metadata": {},
   "source": [
    "### Lasso"
   ]
  },
  {
   "cell_type": "code",
   "execution_count": 17,
   "metadata": {},
   "outputs": [],
   "source": [
    "test_res = {\n",
    "        'LR': np.zeros(5),\n",
    "        'SVM': np.zeros(5),\n",
    "        'XGB':np.zeros(5)\n",
    "        }\n",
    "train_res = {\n",
    "    'LR': np.zeros(5),\n",
    "    'SVM': np.zeros(5),\n",
    "    'XGB':np.zeros(5)\n",
    "    }\n",
    "nb_selected_genes=[]\n",
    "skf = StratifiedKFold(n_splits=5,random_state=3,shuffle=True)\n",
    "i=0"
   ]
  },
  {
   "cell_type": "code",
   "execution_count": 19,
   "metadata": {},
   "outputs": [
    {
     "name": "stderr",
     "output_type": "stream",
     "text": [
      "0it [00:00, ?it/s]"
     ]
    },
    {
     "name": "stdout",
     "output_type": "stream",
     "text": [
      "[100.]\n"
     ]
    },
    {
     "name": "stderr",
     "output_type": "stream",
     "text": [
      "/home/irit/.local/lib/python3.10/site-packages/sklearn/model_selection/_validation.py:378: FitFailedWarning: \n",
      "96 fits failed out of a total of 384.\n",
      "The score on these train-test partitions for these parameters will be set to nan.\n",
      "If these failures are not expected, you can try to debug them by setting error_score='raise'.\n",
      "\n",
      "Below are more details about the failures:\n",
      "--------------------------------------------------------------------------------\n",
      "96 fits failed with the following error:\n",
      "Traceback (most recent call last):\n",
      "  File \"/home/irit/.local/lib/python3.10/site-packages/sklearn/model_selection/_validation.py\", line 686, in _fit_and_score\n",
      "    estimator.fit(X_train, y_train, **fit_params)\n",
      "  File \"/home/irit/.local/lib/python3.10/site-packages/sklearn/svm/_base.py\", line 180, in fit\n",
      "    self._validate_params()\n",
      "  File \"/home/irit/.local/lib/python3.10/site-packages/sklearn/base.py\", line 600, in _validate_params\n",
      "    validate_parameter_constraints(\n",
      "  File \"/home/irit/.local/lib/python3.10/site-packages/sklearn/utils/_param_validation.py\", line 97, in validate_parameter_constraints\n",
      "    raise InvalidParameterError(\n",
      "sklearn.utils._param_validation.InvalidParameterError: The 'C' parameter of SVC must be a float in the range (0.0, inf). Got 0 instead.\n",
      "\n",
      "  warnings.warn(some_fits_failed_message, FitFailedWarning)\n",
      "/home/irit/.local/lib/python3.10/site-packages/sklearn/model_selection/_search.py:952: UserWarning: One or more of the test scores are non-finite: [0.76774194 0.51827957 0.51827957 0.51827957 0.76774194 0.51827957\n",
      " 0.51827957 0.51827957 0.76774194 0.96129032 0.51827957 0.51827957\n",
      " 0.76774194 0.96129032 0.51827957 0.51827957 0.76774194 0.51827957\n",
      " 0.51827957 0.51827957 0.76774194 0.51827957 0.51827957 0.51827957\n",
      " 0.76774194 0.89677419 0.51827957 0.51827957 0.76774194 0.89677419\n",
      " 0.51827957 0.51827957        nan        nan        nan        nan\n",
      "        nan        nan        nan        nan        nan        nan\n",
      "        nan        nan        nan        nan        nan        nan\n",
      "        nan        nan        nan        nan        nan        nan\n",
      "        nan        nan        nan        nan        nan        nan\n",
      "        nan        nan        nan        nan 0.99569892 0.9483871\n",
      " 0.98924731 0.88602151 0.99569892 0.51827957 0.51827957 0.51827957\n",
      " 0.99569892 0.96129032 0.51827957 0.51827957 0.99569892 0.96129032\n",
      " 0.51827957 0.51827957 0.99569892 0.73978495 0.98924731 0.88602151\n",
      " 0.99569892 0.51827957 0.51827957 0.51827957 0.99569892 0.89677419\n",
      " 0.51827957 0.51827957 0.99569892 0.89677419 0.51827957 0.51827957\n",
      " 0.99569892 0.95698925 0.99354839 0.71397849 0.99569892 0.51827957\n",
      " 0.51827957 0.51827957 0.99569892 0.96129032 0.51827957 0.51827957\n",
      " 0.99569892 0.96129032 0.51827957 0.51827957 0.99569892 0.87311828\n",
      " 0.99354839 0.71397849 0.99569892 0.51827957 0.51827957 0.51827957\n",
      " 0.99569892 0.89677419 0.51827957 0.51827957 0.99569892 0.89677419\n",
      " 0.51827957 0.51827957]\n",
      "  warnings.warn(\n",
      "1it [03:10, 190.72s/it]"
     ]
    },
    {
     "name": "stdout",
     "output_type": "stream",
     "text": [
      "[52.14008288]\n"
     ]
    },
    {
     "name": "stderr",
     "output_type": "stream",
     "text": [
      "/home/irit/.local/lib/python3.10/site-packages/sklearn/model_selection/_validation.py:378: FitFailedWarning: \n",
      "96 fits failed out of a total of 384.\n",
      "The score on these train-test partitions for these parameters will be set to nan.\n",
      "If these failures are not expected, you can try to debug them by setting error_score='raise'.\n",
      "\n",
      "Below are more details about the failures:\n",
      "--------------------------------------------------------------------------------\n",
      "96 fits failed with the following error:\n",
      "Traceback (most recent call last):\n",
      "  File \"/home/irit/.local/lib/python3.10/site-packages/sklearn/model_selection/_validation.py\", line 686, in _fit_and_score\n",
      "    estimator.fit(X_train, y_train, **fit_params)\n",
      "  File \"/home/irit/.local/lib/python3.10/site-packages/sklearn/svm/_base.py\", line 180, in fit\n",
      "    self._validate_params()\n",
      "  File \"/home/irit/.local/lib/python3.10/site-packages/sklearn/base.py\", line 600, in _validate_params\n",
      "    validate_parameter_constraints(\n",
      "  File \"/home/irit/.local/lib/python3.10/site-packages/sklearn/utils/_param_validation.py\", line 97, in validate_parameter_constraints\n",
      "    raise InvalidParameterError(\n",
      "sklearn.utils._param_validation.InvalidParameterError: The 'C' parameter of SVC must be a float in the range (0.0, inf). Got 0 instead.\n",
      "\n",
      "  warnings.warn(some_fits_failed_message, FitFailedWarning)\n",
      "/home/irit/.local/lib/python3.10/site-packages/sklearn/model_selection/_search.py:952: UserWarning: One or more of the test scores are non-finite: [0.62795699 0.51827957 0.51827957 0.51827957 0.62795699 0.51827957\n",
      " 0.51827957 0.51827957 0.62795699 0.95913978 0.51827957 0.51827957\n",
      " 0.62795699 0.95913978 0.51827957 0.51827957 0.62795699 0.51827957\n",
      " 0.51827957 0.51827957 0.62795699 0.51827957 0.51827957 0.51827957\n",
      " 0.62795699 0.87956989 0.51827957 0.51827957 0.62795699 0.87956989\n",
      " 0.51827957 0.51827957        nan        nan        nan        nan\n",
      "        nan        nan        nan        nan        nan        nan\n",
      "        nan        nan        nan        nan        nan        nan\n",
      "        nan        nan        nan        nan        nan        nan\n",
      "        nan        nan        nan        nan        nan        nan\n",
      "        nan        nan        nan        nan 0.99139785 0.82580645\n",
      " 0.99139785 0.99354839 0.99139785 0.51827957 0.51827957 0.51827957\n",
      " 0.99139785 0.95913978 0.51827957 0.51827957 0.99139785 0.95913978\n",
      " 0.51827957 0.51827957 0.99139785 0.60645161 0.99139785 0.99354839\n",
      " 0.99139785 0.51827957 0.51827957 0.51827957 0.99139785 0.87956989\n",
      " 0.51827957 0.51827957 0.99139785 0.87956989 0.51827957 0.51827957\n",
      " 0.99139785 0.96129032 0.98924731 0.90967742 0.99139785 0.51827957\n",
      " 0.51827957 0.51827957 0.99139785 0.95913978 0.51827957 0.51827957\n",
      " 0.99139785 0.95913978 0.51827957 0.51827957 0.99139785 0.79139785\n",
      " 0.98924731 0.90967742 0.99139785 0.51827957 0.51827957 0.51827957\n",
      " 0.99139785 0.87956989 0.51827957 0.51827957 0.99139785 0.87956989\n",
      " 0.51827957 0.51827957]\n",
      "  warnings.warn(\n",
      "2it [06:00, 178.27s/it]"
     ]
    },
    {
     "name": "stdout",
     "output_type": "stream",
     "text": [
      "[9.77009957]\n"
     ]
    },
    {
     "name": "stderr",
     "output_type": "stream",
     "text": [
      "/home/irit/.local/lib/python3.10/site-packages/sklearn/model_selection/_validation.py:378: FitFailedWarning: \n",
      "96 fits failed out of a total of 384.\n",
      "The score on these train-test partitions for these parameters will be set to nan.\n",
      "If these failures are not expected, you can try to debug them by setting error_score='raise'.\n",
      "\n",
      "Below are more details about the failures:\n",
      "--------------------------------------------------------------------------------\n",
      "96 fits failed with the following error:\n",
      "Traceback (most recent call last):\n",
      "  File \"/home/irit/.local/lib/python3.10/site-packages/sklearn/model_selection/_validation.py\", line 686, in _fit_and_score\n",
      "    estimator.fit(X_train, y_train, **fit_params)\n",
      "  File \"/home/irit/.local/lib/python3.10/site-packages/sklearn/svm/_base.py\", line 180, in fit\n",
      "    self._validate_params()\n",
      "  File \"/home/irit/.local/lib/python3.10/site-packages/sklearn/base.py\", line 600, in _validate_params\n",
      "    validate_parameter_constraints(\n",
      "  File \"/home/irit/.local/lib/python3.10/site-packages/sklearn/utils/_param_validation.py\", line 97, in validate_parameter_constraints\n",
      "    raise InvalidParameterError(\n",
      "sklearn.utils._param_validation.InvalidParameterError: The 'C' parameter of SVC must be a float in the range (0.0, inf). Got 0 instead.\n",
      "\n",
      "  warnings.warn(some_fits_failed_message, FitFailedWarning)\n",
      "/home/irit/.local/lib/python3.10/site-packages/sklearn/model_selection/_search.py:952: UserWarning: One or more of the test scores are non-finite: [0.5257651  0.51931348 0.51931348 0.51931348 0.5257651  0.51931348\n",
      " 0.51931348 0.51931348 0.5257651  0.94204577 0.51931348 0.51931348\n",
      " 0.5257651  0.94204577 0.51931348 0.51931348 0.5257651  0.51931348\n",
      " 0.51931348 0.51931348 0.5257651  0.51931348 0.51931348 0.51931348\n",
      " 0.5257651  0.83904053 0.51931348 0.51931348 0.5257651  0.83904053\n",
      " 0.51931348 0.51931348        nan        nan        nan        nan\n",
      "        nan        nan        nan        nan        nan        nan\n",
      "        nan        nan        nan        nan        nan        nan\n",
      "        nan        nan        nan        nan        nan        nan\n",
      "        nan        nan        nan        nan        nan        nan\n",
      "        nan        nan        nan        nan 0.99357596 0.66069755\n",
      " 0.98500138 0.98068652 0.99357596 0.51931348 0.51931348 0.51931348\n",
      " 0.99357596 0.94204577 0.51931348 0.51931348 0.99357596 0.94204577\n",
      " 0.51931348 0.51931348 0.99357596 0.52146402 0.98500138 0.98068652\n",
      " 0.99357596 0.51931348 0.51931348 0.51931348 0.99357596 0.83904053\n",
      " 0.51931348 0.51931348 0.99357596 0.83904053 0.51931348 0.51931348\n",
      " 0.99357596 0.94411359 0.99143921 0.99357596 0.99357596 0.51931348\n",
      " 0.51931348 0.51931348 0.99357596 0.94204577 0.51931348 0.51931348\n",
      " 0.99357596 0.94204577 0.51931348 0.51931348 0.99357596 0.66503998\n",
      " 0.99143921 0.99357596 0.99357596 0.51931348 0.51931348 0.51931348\n",
      " 0.99357596 0.83904053 0.51931348 0.51931348 0.99357596 0.83904053\n",
      " 0.51931348 0.51931348]\n",
      "  warnings.warn(\n",
      "3it [08:40, 169.99s/it]"
     ]
    },
    {
     "name": "stdout",
     "output_type": "stream",
     "text": [
      "[0.25950242]\n"
     ]
    },
    {
     "name": "stderr",
     "output_type": "stream",
     "text": [
      "/home/irit/.local/lib/python3.10/site-packages/sklearn/model_selection/_validation.py:378: FitFailedWarning: \n",
      "96 fits failed out of a total of 384.\n",
      "The score on these train-test partitions for these parameters will be set to nan.\n",
      "If these failures are not expected, you can try to debug them by setting error_score='raise'.\n",
      "\n",
      "Below are more details about the failures:\n",
      "--------------------------------------------------------------------------------\n",
      "96 fits failed with the following error:\n",
      "Traceback (most recent call last):\n",
      "  File \"/home/irit/.local/lib/python3.10/site-packages/sklearn/model_selection/_validation.py\", line 686, in _fit_and_score\n",
      "    estimator.fit(X_train, y_train, **fit_params)\n",
      "  File \"/home/irit/.local/lib/python3.10/site-packages/sklearn/svm/_base.py\", line 180, in fit\n",
      "    self._validate_params()\n",
      "  File \"/home/irit/.local/lib/python3.10/site-packages/sklearn/base.py\", line 600, in _validate_params\n",
      "    validate_parameter_constraints(\n",
      "  File \"/home/irit/.local/lib/python3.10/site-packages/sklearn/utils/_param_validation.py\", line 97, in validate_parameter_constraints\n",
      "    raise InvalidParameterError(\n",
      "sklearn.utils._param_validation.InvalidParameterError: The 'C' parameter of SVC must be a float in the range (0.0, inf). Got 0 instead.\n",
      "\n",
      "  warnings.warn(some_fits_failed_message, FitFailedWarning)\n",
      "/home/irit/.local/lib/python3.10/site-packages/sklearn/model_selection/_search.py:952: UserWarning: One or more of the test scores are non-finite: [0.51931348 0.51931348 0.51931348 0.51931348 0.51931348 0.51931348\n",
      " 0.51931348 0.51931348 0.51931348 0.68457403 0.51931348 0.51931348\n",
      " 0.51931348 0.61370278 0.51931348 0.51931348 0.51931348 0.51931348\n",
      " 0.51931348 0.51931348 0.51931348 0.51931348 0.51931348 0.51931348\n",
      " 0.51931348 0.63513923 0.51931348 0.51931348 0.51931348 0.61593604\n",
      " 0.51931348 0.51931348        nan        nan        nan        nan\n",
      "        nan        nan        nan        nan        nan        nan\n",
      "        nan        nan        nan        nan        nan        nan\n",
      "        nan        nan        nan        nan        nan        nan\n",
      "        nan        nan        nan        nan        nan        nan\n",
      "        nan        nan        nan        nan 0.72109181 0.51931348\n",
      " 0.70385994 0.69528536 0.72109181 0.51931348 0.51931348 0.51931348\n",
      " 0.72109181 0.60088227 0.55805073 0.52149159 0.72109181 0.60088227\n",
      " 0.51931348 0.51931348 0.72109181 0.51931348 0.70385994 0.69528536\n",
      " 0.72109181 0.51931348 0.51931348 0.51931348 0.72109181 0.61593604\n",
      " 0.55805073 0.52149159 0.72109181 0.61593604 0.51931348 0.51931348\n",
      " 0.70606562 0.52788806 0.70821616 0.72321478 0.70606562 0.51931348\n",
      " 0.51931348 0.51931348 0.70606562 0.60088227 0.55805073 0.52149159\n",
      " 0.70606562 0.60088227 0.51931348 0.51931348 0.70606562 0.51931348\n",
      " 0.70821616 0.72321478 0.70606562 0.51931348 0.51931348 0.51931348\n",
      " 0.70606562 0.61593604 0.55805073 0.52149159 0.70606562 0.61593604\n",
      " 0.51931348 0.51931348]\n",
      "  warnings.warn(\n",
      "4it [11:10, 162.13s/it]"
     ]
    },
    {
     "name": "stdout",
     "output_type": "stream",
     "text": [
      "[52.14008288]\n"
     ]
    },
    {
     "name": "stderr",
     "output_type": "stream",
     "text": [
      "/home/irit/.local/lib/python3.10/site-packages/sklearn/model_selection/_validation.py:378: FitFailedWarning: \n",
      "96 fits failed out of a total of 384.\n",
      "The score on these train-test partitions for these parameters will be set to nan.\n",
      "If these failures are not expected, you can try to debug them by setting error_score='raise'.\n",
      "\n",
      "Below are more details about the failures:\n",
      "--------------------------------------------------------------------------------\n",
      "96 fits failed with the following error:\n",
      "Traceback (most recent call last):\n",
      "  File \"/home/irit/.local/lib/python3.10/site-packages/sklearn/model_selection/_validation.py\", line 686, in _fit_and_score\n",
      "    estimator.fit(X_train, y_train, **fit_params)\n",
      "  File \"/home/irit/.local/lib/python3.10/site-packages/sklearn/svm/_base.py\", line 180, in fit\n",
      "    self._validate_params()\n",
      "  File \"/home/irit/.local/lib/python3.10/site-packages/sklearn/base.py\", line 600, in _validate_params\n",
      "    validate_parameter_constraints(\n",
      "  File \"/home/irit/.local/lib/python3.10/site-packages/sklearn/utils/_param_validation.py\", line 97, in validate_parameter_constraints\n",
      "    raise InvalidParameterError(\n",
      "sklearn.utils._param_validation.InvalidParameterError: The 'C' parameter of SVC must be a float in the range (0.0, inf). Got 0 instead.\n",
      "\n",
      "  warnings.warn(some_fits_failed_message, FitFailedWarning)\n",
      "/home/irit/.local/lib/python3.10/site-packages/sklearn/model_selection/_search.py:952: UserWarning: One or more of the test scores are non-finite: [0.65231596 0.51931348 0.51931348 0.51931348 0.65231596 0.51931348\n",
      " 0.51931348 0.51931348 0.65231596 0.95281224 0.51931348 0.51931348\n",
      " 0.65231596 0.95281224 0.51931348 0.51931348 0.65231596 0.51931348\n",
      " 0.51931348 0.51931348 0.65231596 0.51931348 0.51931348 0.51931348\n",
      " 0.65231596 0.88417425 0.51931348 0.51931348 0.65231596 0.88417425\n",
      " 0.51931348 0.51931348        nan        nan        nan        nan\n",
      "        nan        nan        nan        nan        nan        nan\n",
      "        nan        nan        nan        nan        nan        nan\n",
      "        nan        nan        nan        nan        nan        nan\n",
      "        nan        nan        nan        nan        nan        nan\n",
      "        nan        nan        nan        nan 1.         0.8689137\n",
      " 0.99784946 0.99786325 1.         0.51931348 0.51931348 0.51931348\n",
      " 1.         0.95281224 0.51931348 0.51931348 1.         0.95281224\n",
      " 0.51931348 0.51931348 1.         0.58581472 0.99784946 0.99786325\n",
      " 1.         0.51931348 0.51931348 0.51931348 1.         0.88417425\n",
      " 0.51931348 0.51931348 1.         0.88417425 0.51931348 0.51931348\n",
      " 1.         0.95705817 0.99784946 0.97212572 1.         0.51931348\n",
      " 0.51931348 0.51931348 1.         0.95281224 0.51931348 0.51931348\n",
      " 1.         0.95281224 0.51931348 0.51931348 1.         0.8152054\n",
      " 0.99784946 0.97212572 1.         0.51931348 0.51931348 0.51931348\n",
      " 1.         0.88417425 0.51931348 0.51931348 1.         0.88417425\n",
      " 0.51931348 0.51931348]\n",
      "  warnings.warn(\n",
      "5it [14:04, 168.82s/it]\n"
     ]
    }
   ],
   "source": [
    "\n",
    "for train, test in tqdm(skf.split(X, y)):\n",
    "    X_train=X.iloc[train]\n",
    "    X_test=X.iloc[test]\n",
    "    y_train=y.iloc[train]\n",
    "    y_test=y.iloc[test]\n",
    "    selected_genes,lr=feature_selection.lasso(X_train,y_train)\n",
    "    nb_selected_genes.append(len(selected_genes))\n",
    "    #logistic regression\n",
    "    train_res['LR'][i]=accuracy_score(y_train,lr.predict(X_train))\n",
    "    test_res['LR'][i]=accuracy_score(y_test,lr.predict(X_test))\n",
    "    #svm\n",
    "    svm=SVM_model.find_best_params(X_train[selected_genes],y_train,3)\n",
    "    train_res['SVM'][i]=accuracy_score(y_train,svm.predict(X_train[selected_genes]))\n",
    "    test_res['SVM'][i]=accuracy_score(y_test,svm.predict(X_test[selected_genes]))\n",
    "    #xgb\n",
    "    xgb=xgboost_model.find_best_params(X_train[selected_genes],y_train,3)\n",
    "    train_res['XGB'][i]=accuracy_score(y_train,xgb.predict(X_train[selected_genes]))\n",
    "    test_res['XGB'][i]=accuracy_score(y_test,xgb.predict(X_test[selected_genes]))\n",
    "    i=i+1"
   ]
  },
  {
   "cell_type": "markdown",
   "metadata": {},
   "source": [
    "Logistic regression"
   ]
  },
  {
   "cell_type": "code",
   "execution_count": 20,
   "metadata": {},
   "outputs": [
    {
     "data": {
      "text/plain": [
       "0.9459227467811159"
      ]
     },
     "execution_count": 20,
     "metadata": {},
     "output_type": "execute_result"
    }
   ],
   "source": [
    "train_res['LR'].mean()"
   ]
  },
  {
   "cell_type": "code",
   "execution_count": 21,
   "metadata": {},
   "outputs": [
    {
     "data": {
      "text/plain": [
       "0.5532714412024757"
      ]
     },
     "execution_count": 21,
     "metadata": {},
     "output_type": "execute_result"
    }
   ],
   "source": [
    "test_res['LR'].mean()"
   ]
  },
  {
   "cell_type": "code",
   "execution_count": 23,
   "metadata": {},
   "outputs": [
    {
     "data": {
      "text/plain": [
       "0.04494446134341006"
      ]
     },
     "execution_count": 23,
     "metadata": {},
     "output_type": "execute_result"
    }
   ],
   "source": [
    "test_res['LR'].std()"
   ]
  },
  {
   "cell_type": "markdown",
   "metadata": {},
   "source": [
    "SVM"
   ]
  },
  {
   "cell_type": "code",
   "execution_count": 24,
   "metadata": {},
   "outputs": [
    {
     "data": {
      "text/plain": [
       "0.9523586690664082"
      ]
     },
     "execution_count": 24,
     "metadata": {},
     "output_type": "execute_result"
    }
   ],
   "source": [
    "train_res['SVM'].mean()"
   ]
  },
  {
   "cell_type": "code",
   "execution_count": 25,
   "metadata": {},
   "outputs": [
    {
     "name": "stdout",
     "output_type": "stream",
     "text": [
      "La moyenne est:  0.5550545240200412\n",
      "Avec un écart type de:  0.031163586492804148\n"
     ]
    }
   ],
   "source": [
    "print('La moyenne est: ',test_res['SVM'].mean())\n",
    "print('Avec un écart type de: ', test_res['SVM'].std())"
   ]
  },
  {
   "cell_type": "markdown",
   "metadata": {},
   "source": [
    "XGBOOST"
   ]
  },
  {
   "cell_type": "code",
   "execution_count": 26,
   "metadata": {},
   "outputs": [
    {
     "data": {
      "text/plain": [
       "0.907723475933361"
      ]
     },
     "execution_count": 26,
     "metadata": {},
     "output_type": "execute_result"
    }
   ],
   "source": [
    "train_res['XGB'].mean()"
   ]
  },
  {
   "cell_type": "code",
   "execution_count": 27,
   "metadata": {},
   "outputs": [
    {
     "name": "stdout",
     "output_type": "stream",
     "text": [
      "La moyenne est:  0.5343796050692603\n",
      "Avec un écart type de:  0.017887405884801245\n"
     ]
    }
   ],
   "source": [
    "print('La moyenne est: ',test_res['XGB'].mean())\n",
    "print('Avec un écart type de: ', test_res['XGB'].std())"
   ]
  },
  {
   "cell_type": "markdown",
   "metadata": {},
   "source": [
    "### Boruta"
   ]
  },
  {
   "cell_type": "code",
   "execution_count": null,
   "metadata": {},
   "outputs": [],
   "source": [
    "\n",
    "for train, test in skf.split(X, y):\n",
    "    X_train=X.iloc[train]\n",
    "    X_test=X.iloc[test]\n",
    "    y_train=y.iloc[train]\n",
    "    y_test=y.iloc[test]\n",
    "    selected_genes,lr=feature_selection.boruta(X_train,y_train)\n",
    "    #logistic regression\n",
    "    train_res['LR'][i]=accuracy_score(y_train,lr.predict(X_train))\n",
    "    test_res['LR'][i]=accuracy_score(y_test,lr.predict(X_test))\n",
    "    #svm\n",
    "    svm=SVM_model.find_best_params(X_train[selected_genes],y_train,3)\n",
    "    train_res['SVM'][i]=accuracy_score(y_train,svm.predict(X_train[selected_genes]))\n",
    "    test_res['SVM'][i]=accuracy_score(y_test,svm.predict(X_test[selected_genes]))\n",
    "    #xgb\n",
    "    xgb=xgboost_model.find_best_params(X_train[selected_genes],y_train,3)\n",
    "    train_res['XGB'][i]=accuracy_score(y_train,xgb.predict(X_train[selected_genes]))\n",
    "    test_res['XGB'][i]=accuracy_score(y_test,xgb.predict(X_test[selected_genes]))\n",
    "    i=i+1"
   ]
  }
 ],
 "metadata": {
  "kernelspec": {
   "display_name": "Python 3",
   "language": "python",
   "name": "python3"
  },
  "language_info": {
   "codemirror_mode": {
    "name": "ipython",
    "version": 3
   },
   "file_extension": ".py",
   "mimetype": "text/x-python",
   "name": "python",
   "nbconvert_exporter": "python",
   "pygments_lexer": "ipython3",
   "version": "3.10.12"
  },
  "orig_nbformat": 4
 },
 "nbformat": 4,
 "nbformat_minor": 2
}
